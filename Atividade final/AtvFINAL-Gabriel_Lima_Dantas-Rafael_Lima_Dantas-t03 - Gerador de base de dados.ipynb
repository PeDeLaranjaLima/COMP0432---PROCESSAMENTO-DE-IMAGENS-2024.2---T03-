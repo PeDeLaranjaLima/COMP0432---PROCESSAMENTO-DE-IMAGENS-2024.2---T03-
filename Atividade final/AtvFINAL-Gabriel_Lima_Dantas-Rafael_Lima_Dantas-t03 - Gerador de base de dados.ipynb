{
 "cells": [
  {
   "cell_type": "code",
   "execution_count": 4,
   "metadata": {},
   "outputs": [],
   "source": [
    "import numpy as np\n",
    "import barcode\n",
    "from barcode.writer import ImageWriter\n",
    "import random\n",
    "from skimage import io\n",
    "from skimage.transform import rotate\n",
    "from skimage.io import imsave"
   ]
  },
  {
   "cell_type": "markdown",
   "metadata": {},
   "source": [
    "A lista abaixo foi gerada utilizando o Chat gpt e corresponde a codificção code 128 genérica"
   ]
  },
  {
   "cell_type": "code",
   "execution_count": 5,
   "metadata": {},
   "outputs": [],
   "source": [
    "# Lista de códigos disponíveis no formato code 128 usada para a construção da base de dados\n",
    "codigo128_binarios =   [\"11011001100\",\n",
    "                        \"11001101111\",\n",
    "                        \"11001111011\",\n",
    "                        \"11010001111\",\n",
    "                        \"11010111011\",\n",
    "                        \"11011100111\",\n",
    "                        \"11010100111\",\n",
    "                        \"11011010011\",\n",
    "                        \"11011011111\",\n",
    "                        \"11010111001\",\n",
    "                        \"11011101001\",\n",
    "                        \"11010100011\",\n",
    "                        \"11011100101\",\n",
    "                        \"11010010011\",\n",
    "                        \"11011010111\",\n",
    "                        \"11010111010\",\n",
    "                        \"11011101010\",\n",
    "                        \"11010101101\",\n",
    "                        \"11011011001\",\n",
    "                        \"11011011101\",\n",
    "                        \"11010101111\",\n",
    "                        \"11011101101\",\n",
    "                        \"11010111101\",\n",
    "                        \"11011100110\",\n",
    "                        \"11010110011\",\n",
    "                        \"11011010101\",\n",
    "                        \"11011101011\",\n",
    "                        \"11010111011\",\n",
    "                        \"11011010010\",\n",
    "                        \"11011101010\",\n",
    "                        \"11010101011\",\n",
    "                        \"11011010110\",\n",
    "                        \"10010001100\",\n",
    "                        \"10010010000\",\n",
    "                        \"10010000100\",\n",
    "                        \"10011000100\",\n",
    "                        \"10010010010\",\n",
    "                        \"10010000110\",\n",
    "                        \"10011000010\",\n",
    "                        \"10011010000\",\n",
    "                        \"10010011000\",\n",
    "                        \"10010001110\",\n",
    "                        \"10011010010\",\n",
    "                        \"10011000011\",\n",
    "                        \"10010011100\",\n",
    "                        \"10010001010\",\n",
    "                        \"10011001000\",\n",
    "                        \"10010000101\",\n",
    "                        \"11011001110\",\n",
    "                        \"11001101100\",\n",
    "                        \"11001111000\",\n",
    "                        \"11010001100\",\n",
    "                        \"11010111000\",\n",
    "                        \"11011100100\",\n",
    "                        \"11010100100\",\n",
    "                        \"11011010000\",\n",
    "                        \"11011011100\",\n",
    "                        \"11010111010\",\n",
    "                        \"11011001000\",\n",
    "                        \"11010100000\",\n",
    "                        \"11010010001\",\n",
    "                        \"11010101001\",\n",
    "                        \"11010011000\",\n",
    "                        \"11011101111\",\n",
    "                        \"11010100101\",\n",
    "                        \"11010101000\",\n",
    "                        \"11011110001\",\n",
    "                        \"11010010011\",\n",
    "                        \"11010011110\",\n",
    "                        \"11011100110\",\n",
    "                        \"11011011000\",\n",
    "                        \"11010110110\",\n",
    "                        \"11011101000\",\n",
    "                        \"11011010001\",\n",
    "                        \"11010001001\",\n",
    "                        \"11010110000\",\n",
    "                        \"11011110111\",\n",
    "                        \"11011110010\",\n",
    "                        \"11010010011\",\n",
    "                        \"11011000100\",\n",
    "                        \"11010101111\",\n",
    "                        \"11010011011\",\n",
    "                        \"11010111001\",\n",
    "                        \"11011110101\",\n",
    "                        \"11011100000\",\n",
    "                        \"11011011110\",\n",
    "                        \"11010110100\",\n",
    "                        \"11010100010\",\n",
    "                        \"11011101001\",\n",
    "                        \"11011110100\",\n",
    "                        \"11010101101\",\n",
    "                        \"11011101001\",\n",
    "                        \"11010011110\",\n",
    "                        \"11011010001\",\n",
    "                        \"11011110101\",\n",
    "                        \"11011100010\",\n",
    "                        \"11010001001\",\n",
    "                        \"11010100100\",\n",
    "                        \"11010111000\",\n",
    "                        \"11010100110\",\n",
    "                        \"11010000111\",\n",
    "                        \"11010011000\",\n",
    "                        \"11011001101\",\n",
    "                        \"11011111000\",\n",
    "                        \"11011001101\",\n",
    "                        \"11010101000\",\n",
    "                        \"11010110010\",\n",
    "                        \"11011100101\",\n",
    "                        \"11010110001\",\n",
    "                        \"11010100011\",\n",
    "                        \"11010101110\",\n",
    "                        \"11011010001\",\n",
    "                        \"11011010000\",\n",
    "                        \"11011011101\",\n",
    "                        \"11011011001\",\n",
    "                        \"11010011010\",\n",
    "                        \"11011101000\",\n",
    "                        \"11011101011\",\n",
    "                        \"11011101010\",\n",
    "                        \"11010010101\"\n",
    "                        ]\n"
   ]
  },
  {
   "cell_type": "markdown",
   "metadata": {},
   "source": [
    "Trecho que gera diferentes combinações de até três códigos diferentes com base na ista acima."
   ]
  },
  {
   "cell_type": "code",
   "execution_count": null,
   "metadata": {},
   "outputs": [],
   "source": [
    "for i, cd in enumerate(codigo128_binarios):\n",
    "    random1 = random.randint(0,119) # 119 é o número de códigos disponíveis na planilha\n",
    "    random2 = random.randint(0,119)\n",
    "    codigo = cd + codigo128_binarios[random1] + codigo128_binarios[random2]  # O código de barras precisa ter um número válido\n",
    "                                                                             # Concatenação de três palavras ou códigos unitários, em um único código\n",
    "                                                                             # que será convertido em imagem\n",
    "    code128 = barcode.get_barcode_class('code128')\n",
    "    barcode_obj = code128(codigo, writer=ImageWriter())\n",
    "\n",
    "    # Configurações do writer para manter relação 1x1\n",
    "    options = {\n",
    "        \"module_width\": 1,  # Cada módulo terá exatamente 1 pixel de largura\n",
    "        \"module_height\": 40,  # Altura do código de barras\n",
    "        \"dpi\": 300,           # Define a resolução\n",
    "        \"text_distance\": 5,   # Espaço entre o código e o número\n",
    "        \"font_size\": 1,      # Tamanho da fonte do número (opcional)\n",
    "        \"quiet_zone\": 50,       # Margem ao redor do código (mínimo possível)\n",
    "    }\n",
    "\n",
    "    # Salva a imagem com as opções ajustadas\n",
    "    barcode_obj.save(f\"codigo_de_barras_{i}\", options=options)"
   ]
  },
  {
   "cell_type": "markdown",
   "metadata": {},
   "source": [
    "Código que rotaciona as imagens geradas em ângulos de -60° à 60° usando a função rotate com base no exemplo fornecido de rotação de código 2D."
   ]
  },
  {
   "cell_type": "code",
   "execution_count": null,
   "metadata": {},
   "outputs": [],
   "source": [
    "for i in range(119):\n",
    "    img = (io.imread(f'codigo_de_barras_{i}.png', as_gray=True) * 255).astype('uint8')\n",
    "    ang = random.randint(-60,60)\n",
    "    img_rot = rotate(img, -ang, resize=True, order=0, mode='edge', cval=1)\n",
    "    imsave(f'codigo_rotacionado_{i}.jpg', img_rot)"
   ]
  },
  {
   "cell_type": "markdown",
   "metadata": {},
   "source": [
    "Trecho que gera, individualmente, palavras variadas, à escolha da equipe, para validação dos resultados do código principal."
   ]
  },
  {
   "cell_type": "code",
   "execution_count": 24,
   "metadata": {},
   "outputs": [
    {
     "data": {
      "text/plain": [
       "'codigo_de_barras_teste.png'"
      ]
     },
     "execution_count": 24,
     "metadata": {},
     "output_type": "execute_result"
    }
   ],
   "source": [
    "\n",
    "codigo = 'q'  # O código de barras precisa ter um número válido\n",
    "code128 = barcode.get_barcode_class('code128')\n",
    "barcode_obj = code128(codigo, writer=ImageWriter())\n",
    "\n",
    "# Configurações do writer para manter relação 1x1\n",
    "options = {\n",
    "    \"module_width\": 1,  # Cada módulo terá exatamente 1 pixel de largura\n",
    "    \"module_height\": 40,  # Altura do código de barras\n",
    "    \"dpi\": 300,           # Define a resolução\n",
    "    \"text_distance\": 5,   # Espaço entre o código e o número\n",
    "    \"font_size\": 1,      # Tamanho da fonte do número (opcional)\n",
    "    \"quiet_zone\": 50,       # Margem ao redor do código (mínimo possível)\n",
    "}\n",
    "\n",
    "# Salva a imagem com as opções ajustadas\n",
    "barcode_obj.save(f\"codigo_de_barras_teste\", options=options)"
   ]
  }
 ],
 "metadata": {
  "kernelspec": {
   "display_name": "Python 3",
   "language": "python",
   "name": "python3"
  },
  "language_info": {
   "codemirror_mode": {
    "name": "ipython",
    "version": 3
   },
   "file_extension": ".py",
   "mimetype": "text/x-python",
   "name": "python",
   "nbconvert_exporter": "python",
   "pygments_lexer": "ipython3",
   "version": "3.13.2"
  }
 },
 "nbformat": 4,
 "nbformat_minor": 2
}
