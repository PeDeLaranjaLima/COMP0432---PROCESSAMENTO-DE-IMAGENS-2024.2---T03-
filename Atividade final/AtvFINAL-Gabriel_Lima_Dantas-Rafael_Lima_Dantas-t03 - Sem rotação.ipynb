{
 "cells": [
  {
   "cell_type": "code",
   "execution_count": null,
   "metadata": {},
   "outputs": [],
   "source": [
    "import numpy as np\n",
    "import matplotlib.pyplot as plt\n",
    "from numpy import cos,sin,deg2rad\n",
    "import math\n",
    "import skimage.draw\n",
    "import skimage.color\n",
    "import os\n",
    "from skimage import io\n",
    "import pandas as pd\n",
    "from skimage.transform import rescale"
   ]
  },
  {
   "cell_type": "code",
   "execution_count": null,
   "metadata": {},
   "outputs": [],
   "source": [
    "# Funções para operações geométricas passadas na aula\n",
    "\n",
    "def translacao (tx, ty):\n",
    "\n",
    "    return np.array ([[1,0,tx], \\\n",
    "                      [0,1,ty], \\\n",
    "                      [0,0,1]]).astype('float')\n",
    "\n",
    "def escalonamento (sx, sy):\n",
    "    return np.array ([[sx,0,0], \\\n",
    "                      [0,sy,0], \\\n",
    "                      [0,0,1]]).astype('float')\n",
    "\n",
    "def rotacao (theta):\n",
    "    theta = deg2rad (theta)\n",
    "    c = cos (theta)\n",
    "    s = sin (theta)\n",
    "    return np.array ([[c,-s,0], \\\n",
    "                      [s,c,0], \\\n",
    "                      [0,0,1]]).astype('float')"
   ]
  },
  {
   "cell_type": "code",
   "execution_count": null,
   "metadata": {},
   "outputs": [],
   "source": [
    "# Leitura dos códigos de barras, converção de escala para tons de cinza e converção inteiro\n",
    "img = (io.imread ('codigo_de_barras_10.png',as_gray=True)*255).astype('uint8') # Para as imagens normais, se rotação\n",
    "#img = (io.imread ('codigo_rotacionado_0.jpg').astype('uint8')) # Para as imagens rotacionadas\n",
    "\n",
    "# Exibe uma única imagem\n",
    "plt.figure(figsize=(5, 5))  # Ajustar o tamanho da figura\n",
    "plt.imshow(img, cmap='gray',vmin=0,vmax=255)  # Mostrar a imagem em escala de cinza\n",
    "plt.title('Imagem de entrada')  # Definir o título\n",
    "plt.show()\n",
    "print(f\"Imagem.shape[0] = {img.shape[0]}, Imagem.shape[1] = {img.shape[1]}\") # Apresentando o tamanho da imagem"
   ]
  },
  {
   "cell_type": "code",
   "execution_count": null,
   "metadata": {},
   "outputs": [],
   "source": [
    "# Pegando a linha central para detectar as bordas horizontais\n",
    "linha_central = img[img.shape[0] // 2, :]  # Pegamos a linha do meio\n",
    "\n",
    "# Encontrar a primeira e última coluna com pixel preto\n",
    "col_ini = np.argmax(linha_central == 0) # Primeira ocorrência de preto\n",
    "col_fim = (len(linha_central) - np.argmax(linha_central[::-1] == 0)) # Última ocorrência de preto\n",
    "\n",
    "# Cortar a imagem apenas na região útil\n",
    "img = img[:, col_ini:col_fim]  # Mantemos todas as linhas, mas cortamos colunas\n",
    "\n",
    "# Mostrar a imagem cortada\n",
    "plt.imshow(img, cmap='gray')\n",
    "plt.title('Código de Barras Sem Bordas Brancas')\n",
    "plt.show()"
   ]
  },
  {
   "cell_type": "code",
   "execution_count": null,
   "metadata": {},
   "outputs": [],
   "source": [
    "# Exibe o histograma da imagem\n",
    "plt.figure(figsize=(5, 5))  # Ajustar o tamanho da figura\n",
    "h = np.histogram (img,bins=256) # Calcula o histograma\n",
    "plt.plot (h[0],'-k')\n",
    "plt.title('Histograma')  # Definir o título\n",
    "plt.show()"
   ]
  },
  {
   "cell_type": "markdown",
   "metadata": {},
   "source": [
    "Tomando a atividade 2 como exemplo, na qual é usada a biblioteca do skimage para mudar a escala das placas de carros:\n",
    "\n",
    "<p style=\"text-align:center;\">img_bin_comprimida= rescale(img, scale_x, anti_aliasing=True)</p>\n",
    "\n",
    "foi pensada uma estratéria para pegar o códido de barras, de forma simplificada, já que a imagem não tem dimensõs de 1:1 com relação as barras, o que causa problemas na leitura caso não seja corrigido. Podem haver outros métodos, porém a equipe julgou esse como o mais rápido e efeitvo de ser implementado com base nos materiais disponibilizados anteriormente."
   ]
  },
  {
   "cell_type": "code",
   "execution_count": null,
   "metadata": {},
   "outputs": [],
   "source": [
    "# Obtem a largura da imagem\n",
    "largura_original = img.shape[1]\n",
    "\n",
    "# Estima o número de barras analisando as transições preto-branco\n",
    "linha_meio = img[img.shape[0] // 2, :]  # Pega a linha central\n",
    "\n",
    "# Verifica as transições\n",
    "\n",
    "# 1) linha_meio < 1 => Isso cria um array booleano onde True representa pixels pretos (valores menores que 1) e False representa\n",
    "#    pixels brancos (valores maiores que 1).\n",
    "# 2) np.diff(linha_meio < 1) => A função np.diff() calcula a diferença entre elementos consecutivos no array booleano.\n",
    "# 3) np.count_nonzero(np.diff(linha_meio < 1)) => conta quantos valores diferentes de zero existem. Como cada transição\n",
    "#    (preto → branco ou branco → preto) gera um 1 ou -1, essa contagem nos dá o número total de transições no código de barras.\n",
    "transicoes = np.count_nonzero(np.diff(linha_meio < 1))  # Contar mudanças P/B\n",
    "\n",
    "# Define o fator de escala horizontal para que cada barra tenha 1 pixel de largura\n",
    "scale_x = transicoes / largura_original  # Fator de escala na largura\n",
    "\n",
    "# Aplica o rescale mantendo a altura (scale_y = 1)\n",
    "img_bin_comprimida = rescale(img, (1, scale_x), anti_aliasing=False, order=0, preserve_range=True)\n",
    "\n",
    "# Converte para uint8, e binarizando para exibição correta\n",
    "img_bin_comprimida = (img_bin_comprimida * 255).astype(np.uint8)"
   ]
  },
  {
   "cell_type": "code",
   "execution_count": null,
   "metadata": {},
   "outputs": [],
   "source": [
    "print(img_bin_comprimida)"
   ]
  },
  {
   "cell_type": "code",
   "execution_count": null,
   "metadata": {},
   "outputs": [],
   "source": [
    "# Mostrar a imagem comprimida\n",
    "plt.imshow(img_bin_comprimida, cmap='gray')\n",
    "plt.title('Código de Barras com 1 pixel por Barra')\n",
    "plt.show()"
   ]
  },
  {
   "cell_type": "code",
   "execution_count": null,
   "metadata": {},
   "outputs": [],
   "source": [
    "print(f\"Imagem.shape[0] = {img_bin_comprimida.shape[0]}, Imagem.shape[1] = {img_bin_comprimida.shape[1]}\") # Apresentando o tamanho da imagem"
   ]
  },
  {
   "cell_type": "code",
   "execution_count": null,
   "metadata": {},
   "outputs": [],
   "source": [
    "# Encontrar o índice da linha central\n",
    "linha_central = img_bin_comprimida.shape[0] // 2  # Divide por 2 para pegar o meio"
   ]
  },
  {
   "cell_type": "code",
   "execution_count": null,
   "metadata": {},
   "outputs": [],
   "source": [
    "# Pegar apenas a linha central e todas as suas colunas\n",
    "codigo = img_bin_comprimida[linha_central, :]"
   ]
  },
  {
   "cell_type": "markdown",
   "metadata": {},
   "source": [
    "Se código foi digitado manualmente, como um conjunto de zeros e uns, em uma array numpy, no formato code 128, não importando o tamanho, desde que tenha 11 elementos por palavras, ele será reconhecido. Essa é a primeira parte do entregável."
   ]
  },
  {
   "cell_type": "code",
   "execution_count": null,
   "metadata": {},
   "outputs": [],
   "source": [
    "print(f\"Código encontrado: {codigo}\")\n",
    "print(f\"Tamanho do código encontrado: {len(codigo)}\")"
   ]
  },
  {
   "cell_type": "code",
   "execution_count": null,
   "metadata": {},
   "outputs": [],
   "source": [
    "# Exibe a linha como uma imagem\n",
    "plt.plot(codigo, '-k')  # Plota a intensidade da linha\n",
    "plt.show()"
   ]
  },
  {
   "cell_type": "code",
   "execution_count": null,
   "metadata": {},
   "outputs": [],
   "source": [
    "codigo = 1 - codigo # Calcula o negativo, pois código de barras é em nagetivo, todos os valores comaçam com uma barra de zeros\n",
    "                    # que são lidos como uns"
   ]
  },
  {
   "cell_type": "code",
   "execution_count": null,
   "metadata": {},
   "outputs": [],
   "source": [
    "print(f\"Código encontrado: {codigo}\")\n",
    "print(f\"Tamanho do código encontrado: {len(codigo)}\")"
   ]
  },
  {
   "cell_type": "code",
   "execution_count": null,
   "metadata": {},
   "outputs": [],
   "source": [
    "# Exibe a linha como uma imagem\n",
    "plt.plot(codigo, '-k')  # Plota a intensidade da linha\n",
    "plt.show()"
   ]
  },
  {
   "cell_type": "code",
   "execution_count": null,
   "metadata": {},
   "outputs": [],
   "source": [
    "# Concatena o array, tornando-o uma string, o que retira as vírgulas\n",
    "str_codigo = \"\".join((codigo.astype(int)).astype(str))"
   ]
  },
  {
   "cell_type": "code",
   "execution_count": null,
   "metadata": {},
   "outputs": [],
   "source": [
    "print(str_codigo) # Printa o código"
   ]
  },
  {
   "cell_type": "markdown",
   "metadata": {},
   "source": [
    "A tabela de referências foi gerada usando o códigos de barras code 128, e consta em anexo junto a atividade, nomeado \"AtvFINAL-Gabriel_Lima_Dantas-Rafael_Lima_Dantas-t03 - Tabela code128 completa.xlsx\"\n",
    "\n",
    "A tabela é só de um caractere, assim temos cerca de 119 opções"
   ]
  },
  {
   "cell_type": "code",
   "execution_count": null,
   "metadata": {},
   "outputs": [],
   "source": [
    "tabela = pd.read_excel('AtvFINAL-Gabriel_Lima_Dantas-Rafael_Lima_Dantas-t03 - Tabela code128 completa.xlsx', engine='openpyxl')"
   ]
  },
  {
   "cell_type": "code",
   "execution_count": null,
   "metadata": {},
   "outputs": [],
   "source": [
    "# Separar as colunas em variáveis separadas\n",
    "referencia = tabela['Padrão Code 128'].to_numpy()  # Substitua 'nome_da_coluna_numerica' pelo nome correto da coluna\n",
    "mensagem = tabela['Caractere'].to_numpy()    # Substitua 'nome_da_coluna_strings' pelo nome correto da coluna"
   ]
  },
  {
   "cell_type": "code",
   "execution_count": null,
   "metadata": {},
   "outputs": [],
   "source": [
    "palavras = [] # Cria uma lista para as palavras, os conjuntos de 11 dígitos que formam o código de barras\n",
    "grupo = 0 # Contado para separar as palavras\n",
    "for e in range(len(str_codigo)//11): # O //11, evita que a lista tenha elementos vazios\n",
    "    palavras.append(str_codigo[grupo:grupo+11]) # Juntas os conjuntos na lista\n",
    "    grupo = grupo + 11 # Pula a cada 11 dígitos"
   ]
  },
  {
   "cell_type": "code",
   "execution_count": null,
   "metadata": {},
   "outputs": [],
   "source": [
    "#palavras = [item for item in palavras if item != \"\"] # Retira os elementos vazios da lista"
   ]
  },
  {
   "cell_type": "code",
   "execution_count": null,
   "metadata": {},
   "outputs": [],
   "source": [
    "print(palavras) # Printa a lista com as palavras"
   ]
  },
  {
   "cell_type": "markdown",
   "metadata": {},
   "source": [
    "Ao encontrar o código correspondente, é impresso o caractere associado. O enumerate() acessa tanto o valor de referencia quanto o índice, e permite imprimir o caractere correspondente a mensagem[i]."
   ]
  },
  {
   "cell_type": "code",
   "execution_count": null,
   "metadata": {},
   "outputs": [],
   "source": [
    "for p in palavras:  # Compara a lista com a tabela\n",
    "    for i, confere in enumerate(referencia): \n",
    "        if confere == int(p): # Passa novamente para int, a fim de comparar com a tabela\n",
    "            print(f\"Encontrado: {mensagem[i]}\") # Apresenta o resultado das comparações realizadas            "
   ]
  }
 ],
 "metadata": {
  "kernelspec": {
   "display_name": "Python 3",
   "language": "python",
   "name": "python3"
  },
  "language_info": {
   "codemirror_mode": {
    "name": "ipython",
    "version": 3
   },
   "file_extension": ".py",
   "mimetype": "text/x-python",
   "name": "python",
   "nbconvert_exporter": "python",
   "pygments_lexer": "ipython3",
   "version": "3.13.2"
  }
 },
 "nbformat": 4,
 "nbformat_minor": 2
}
